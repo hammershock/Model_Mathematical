{
 "cells": [
  {
   "cell_type": "markdown",
   "metadata": {},
   "source": [
    "# 时间序列处理\n",
    "## datatime数据转换\n",
    "- Python内置datetime模块提供了各种日期和时间对象。\n",
    "- Pandas可以将datatime对象转换为Timestamp时间戳对象便于进一步处理\n",
    "- Timeseries以及创建了大量用于操作时间序列数据的新功能。"
   ]
  },
  {
   "cell_type": "code",
   "execution_count": 3,
   "metadata": {
    "ExecuteTime": {
     "end_time": "2024-01-26T14:05:23.973191439Z",
     "start_time": "2024-01-26T14:05:23.961946483Z"
    }
   },
   "outputs": [
    {
     "name": "stdout",
     "output_type": "stream",
     "text": [
      "2022-01-28 00:00:00\n",
      "DatetimeIndex(['2022-01-25', '2022-01-26', '2022-02-25', '2022-02-26'], dtype='datetime64[ns]', freq=None)\n"
     ]
    }
   ],
   "source": [
    "import pandas as pd\n",
    "import datetime\n",
    "import numpy as np\n",
    "\n",
    "# 将datetime转换为Timestamp对象\n",
    "timestamp = pd.to_datetime('20220128')\n",
    "print(timestamp)\n",
    "# pd.to_datetime可以接受不同类型的datetime对象\n",
    "# 多个不同来源的datetime对象将被将被转换为DatetimeIndex类\n",
    "Date_Index = pd.to_datetime(\n",
    "    ['20220125', '20220126', np.datetime64('2022-02-25'), datetime.datetime(2022, 2, 26)])\n",
    "print(Date_Index)"
   ]
  },
  {
   "cell_type": "markdown",
   "metadata": {},
   "source": [
    "- 创建以时间戳为索引的DataFrame/Series对象"
   ]
  },
  {
   "cell_type": "code",
   "execution_count": 5,
   "metadata": {
    "ExecuteTime": {
     "end_time": "2024-01-26T14:14:40.259224487Z",
     "start_time": "2024-01-26T14:14:40.218184672Z"
    }
   },
   "outputs": [
    {
     "name": "stdout",
     "output_type": "stream",
     "text": [
      "             0  1\n",
      "2022-01-25   5  3\n",
      "2022-01-26  10  5\n",
      "2022-02-25  15  7\n",
      "2022-02-26  20  9\n",
      "-------\n",
      "2022-01-25     5\n",
      "2022-01-26    10\n",
      "2022-02-25    15\n",
      "2022-02-26    20\n",
      "dtype: int64\n"
     ]
    }
   ],
   "source": [
    "data_dataframe = pd.DataFrame([[5, 3], [10, 5], [15, 7], [20, 9]], index=Date_Index)  # 设置时间索引\n",
    "print(data_dataframe)\n",
    "print('-------')\n",
    "data_series = pd.Series([5, 10, 15, 20], index=Date_Index)\n",
    "print(data_series)"
   ]
  },
  {
   "cell_type": "markdown",
   "metadata": {},
   "source": [
    "## 时间序列索引\n",
    "### 位置索引"
   ]
  },
  {
   "cell_type": "code",
   "execution_count": 16,
   "metadata": {
    "ExecuteTime": {
     "end_time": "2024-01-26T14:21:03.155619372Z",
     "start_time": "2024-01-26T14:21:03.113300656Z"
    }
   },
   "outputs": [
    {
     "name": "stdout",
     "output_type": "stream",
     "text": [
      "0    15\n",
      "1     7\n",
      "Name: 2022-02-25 00:00:00, dtype: int64\n",
      "15\n",
      "7\n",
      "--------------------\n",
      "15\n"
     ]
    }
   ],
   "source": [
    "print(data_dataframe.iloc[2,:])  # value（左侧的是索引）\n",
    "\n",
    "print('-'*20)\n",
    "print(data_series.iloc[2])"
   ]
  },
  {
   "cell_type": "markdown",
   "metadata": {},
   "source": [
    "### 时间戳(index)索引\n",
    "- 符合被解析的日期格式可以直接输入"
   ]
  },
  {
   "cell_type": "code",
   "execution_count": 11,
   "metadata": {
    "collapsed": false,
    "ExecuteTime": {
     "end_time": "2024-01-26T14:19:20.784228672Z",
     "start_time": "2024-01-26T14:19:20.741523408Z"
    }
   },
   "outputs": [
    {
     "name": "stdout",
     "output_type": "stream",
     "text": [
      "0    5\n",
      "1    3\n",
      "Name: 2022-01-25 00:00:00, dtype: int64\n"
     ]
    }
   ],
   "source": [
    "print(data_dataframe.loc['2022-01-25'])"
   ]
  },
  {
   "cell_type": "code",
   "outputs": [
    {
     "name": "stdout",
     "output_type": "stream",
     "text": [
      "0    5\n",
      "1    3\n",
      "Name: 2022-01-25 00:00:00, dtype: int64\n"
     ]
    }
   ],
   "source": [
    "print(data_dataframe.loc['20220125'])"
   ],
   "metadata": {
    "collapsed": false,
    "ExecuteTime": {
     "end_time": "2024-01-26T14:19:24.596346687Z",
     "start_time": "2024-01-26T14:19:24.589532073Z"
    }
   },
   "execution_count": 12
  },
  {
   "cell_type": "code",
   "outputs": [
    {
     "name": "stdout",
     "output_type": "stream",
     "text": [
      "0    5\n",
      "1    3\n",
      "Name: 2022-01-25 00:00:00, dtype: int64\n"
     ]
    }
   ],
   "source": [
    "print(data_dataframe.loc['2022.01.25'])"
   ],
   "metadata": {
    "collapsed": false,
    "ExecuteTime": {
     "end_time": "2024-01-26T14:19:25.727215378Z",
     "start_time": "2024-01-26T14:19:25.722739354Z"
    }
   },
   "execution_count": 13
  },
  {
   "cell_type": "code",
   "outputs": [
    {
     "name": "stdout",
     "output_type": "stream",
     "text": [
      "0    5\n",
      "1    3\n",
      "Name: 2022-01-25 00:00:00, dtype: int64\n"
     ]
    }
   ],
   "source": [
    "print(data_dataframe.loc['2022/01/25'])"
   ],
   "metadata": {
    "collapsed": false,
    "ExecuteTime": {
     "end_time": "2024-01-26T14:19:27.399555104Z",
     "start_time": "2024-01-26T14:19:27.394771076Z"
    }
   },
   "execution_count": 14
  },
  {
   "cell_type": "code",
   "outputs": [
    {
     "name": "stdout",
     "output_type": "stream",
     "text": [
      "5\n"
     ]
    }
   ],
   "source": [
    "print(data_series['20220125'])"
   ],
   "metadata": {
    "ExecuteTime": {
     "end_time": "2024-01-26T14:19:29.900690986Z",
     "start_time": "2024-01-26T14:19:29.896267179Z"
    }
   },
   "execution_count": 15
  },
  {
   "cell_type": "markdown",
   "metadata": {},
   "source": [
    "- 可以用指定年或月份操作索引数据"
   ]
  },
  {
   "cell_type": "code",
   "execution_count": 17,
   "metadata": {
    "collapsed": false,
    "ExecuteTime": {
     "end_time": "2024-01-26T14:22:32.762562959Z",
     "start_time": "2024-01-26T14:22:32.720616455Z"
    }
   },
   "outputs": [
    {
     "name": "stdout",
     "output_type": "stream",
     "text": [
      "             0  1\n",
      "2022-01-25   5  3\n",
      "2022-01-26  10  5\n",
      "2022-02-25  15  7\n",
      "2022-02-26  20  9\n"
     ]
    }
   ],
   "source": [
    "print(data_dataframe.loc['2022'])"
   ]
  },
  {
   "cell_type": "code",
   "outputs": [
    {
     "name": "stdout",
     "output_type": "stream",
     "text": [
      "             0  1\n",
      "2022-01-25   5  3\n",
      "2022-01-26  10  5\n"
     ]
    }
   ],
   "source": [
    "print(data_dataframe.loc['2022-01'])"
   ],
   "metadata": {
    "ExecuteTime": {
     "end_time": "2024-01-26T14:22:34.566334966Z",
     "start_time": "2024-01-26T14:22:34.523627359Z"
    }
   },
   "execution_count": 18
  },
  {
   "cell_type": "markdown",
   "metadata": {},
   "source": [
    "### truncate()方法截取"
   ]
  },
  {
   "cell_type": "code",
   "execution_count": 19,
   "metadata": {
    "ExecuteTime": {
     "end_time": "2024-01-26T14:23:01.458977544Z",
     "start_time": "2024-01-26T14:23:01.457014401Z"
    }
   },
   "outputs": [
    {
     "name": "stdout",
     "output_type": "stream",
     "text": [
      "             0  1\n",
      "2022-02-25  15  7\n",
      "2022-02-26  20  9\n",
      "             0  1\n",
      "2022-01-25   5  3\n",
      "2022-01-26  10  5\n"
     ]
    }
   ],
   "source": [
    "# 对数据进行重新排序\n",
    "data_dataframe = data_dataframe.sort_index()\n",
    "# 截取指定时间段的数据\n",
    "print(data_dataframe.truncate(before='2022-02-1', after=None, axis=0, copy=True))\n",
    "print(data_dataframe.truncate(before=None, after='2022-02-1', axis=0, copy=True))"
   ]
  },
  {
   "cell_type": "markdown",
   "metadata": {},
   "source": [
    "# 创建时间序列\n",
    "## 创建固定频率的时间序列\n",
    "- DatetimeIndex是用来创建一系列时间点的一种pandas结构"
   ]
  },
  {
   "cell_type": "code",
   "execution_count": 20,
   "metadata": {
    "ExecuteTime": {
     "end_time": "2024-01-26T14:23:22.326893948Z",
     "start_time": "2024-01-26T14:23:22.285094237Z"
    }
   },
   "outputs": [
    {
     "data": {
      "text/plain": "DatetimeIndex(['2022-01-01 00:00:00', '2022-01-10 16:00:00',\n               '2022-01-20 08:00:00', '2022-01-30 00:00:00',\n               '2022-02-08 16:00:00', '2022-02-18 08:00:00',\n               '2022-02-28 00:00:00'],\n              dtype='datetime64[ns]', freq=None)"
     },
     "execution_count": 20,
     "metadata": {},
     "output_type": "execute_result"
    }
   ],
   "source": [
    "datetime_index = pd.date_range(start='2022/01/01', end='2022/02/28',periods=7)  # 分为7个时间片\n",
    "datetime_index"
   ]
  },
  {
   "cell_type": "code",
   "execution_count": 21,
   "metadata": {
    "ExecuteTime": {
     "end_time": "2024-01-26T14:25:47.572639440Z",
     "start_time": "2024-01-26T14:25:47.517231862Z"
    }
   },
   "outputs": [
    {
     "data": {
      "text/plain": "DatetimeIndex(['2022-01-03', '2022-01-04', '2022-01-05', '2022-01-06',\n               '2022-01-07', '2022-01-10', '2022-01-11', '2022-01-12',\n               '2022-01-13', '2022-01-14', '2022-01-17', '2022-01-18',\n               '2022-01-19', '2022-01-20', '2022-01-21', '2022-01-24',\n               '2022-01-25', '2022-01-26', '2022-01-27', '2022-01-28',\n               '2022-01-31', '2022-02-01', '2022-02-02', '2022-02-03',\n               '2022-02-04', '2022-02-07', '2022-02-08', '2022-02-09',\n               '2022-02-10', '2022-02-11', '2022-02-14', '2022-02-15',\n               '2022-02-16', '2022-02-17', '2022-02-18', '2022-02-21',\n               '2022-02-22', '2022-02-23', '2022-02-24', '2022-02-25',\n               '2022-02-28'],\n              dtype='datetime64[ns]', freq='B')"
     },
     "execution_count": 21,
     "metadata": {},
     "output_type": "execute_result"
    }
   ],
   "source": [
    "datetime_index = pd.date_range(start='2022/01/01', end='2022/02/28', freq='B')  # 'B' 表示business day, 即只包含工作日\n",
    "datetime_index"
   ]
  },
  {
   "cell_type": "markdown",
   "metadata": {},
   "source": [
    "### 指定时间序列频率与偏移量\n",
    "- `pandas.tseries.offsets`模块"
   ]
  },
  {
   "cell_type": "code",
   "execution_count": 23,
   "metadata": {
    "ExecuteTime": {
     "end_time": "2024-01-26T14:26:44.405898856Z",
     "start_time": "2024-01-26T14:26:44.364220167Z"
    }
   },
   "outputs": [
    {
     "data": {
      "text/plain": "DatetimeIndex(['2022-01-01 00:00:00', '2022-01-08 07:00:00',\n               '2022-01-15 14:00:00', '2022-01-22 21:00:00',\n               '2022-01-30 04:00:00'],\n              dtype='datetime64[ns]', freq='175h')"
     },
     "execution_count": 23,
     "metadata": {},
     "output_type": "execute_result"
    }
   ],
   "source": [
    "from pandas.tseries.offsets import *\n",
    "# 生成日期偏移量\n",
    "date_offset  = Week(1) + Hour(7)\n",
    "pd.date_range('2022/1/1', '2022/1/31', freq=date_offset)  # 可以指定任意时间间隔作为频率"
   ]
  },
  {
   "cell_type": "markdown",
   "metadata": {},
   "source": [
    "## 创建标准的时间段或时期\n",
    "- PeriodIndex是用来创建一系列时间段的pandas结构"
   ]
  },
  {
   "cell_type": "code",
   "execution_count": 25,
   "metadata": {
    "ExecuteTime": {
     "end_time": "2024-01-26T14:27:23.519941553Z",
     "start_time": "2024-01-26T14:27:23.517172216Z"
    }
   },
   "outputs": [
    {
     "data": {
      "text/plain": "Period('2022', 'Y-DEC')"
     },
     "execution_count": 25,
     "metadata": {},
     "output_type": "execute_result"
    }
   ],
   "source": [
    "# 创建Period对象，表示从2022-01-01到2022-12-31之间的时间段\n",
    "period = pd.Period('2022')\n",
    "period"
   ]
  },
  {
   "cell_type": "code",
   "execution_count": 26,
   "metadata": {
    "ExecuteTime": {
     "end_time": "2024-01-26T14:27:28.014988109Z",
     "start_time": "2024-01-26T14:27:28.006255565Z"
    }
   },
   "outputs": [
    {
     "data": {
      "text/plain": "Period('2022-01', 'M')"
     },
     "execution_count": 26,
     "metadata": {},
     "output_type": "execute_result"
    }
   ],
   "source": [
    "# 表示从2022-01-01到2022-01-30之间的整月时间\n",
    "period = pd.Period('2022/1')\n",
    "period"
   ]
  },
  {
   "cell_type": "markdown",
   "metadata": {},
   "source": [
    "- Period对象可进行数学运算"
   ]
  },
  {
   "cell_type": "code",
   "execution_count": 27,
   "metadata": {
    "ExecuteTime": {
     "end_time": "2024-01-26T14:27:34.202252230Z",
     "start_time": "2024-01-26T14:27:34.152376464Z"
    }
   },
   "outputs": [
    {
     "data": {
      "text/plain": "Period('2022-02', 'M')"
     },
     "execution_count": 27,
     "metadata": {},
     "output_type": "execute_result"
    }
   ],
   "source": [
    "period + 1   # Period对象加上一个整数"
   ]
  },
  {
   "cell_type": "markdown",
   "metadata": {},
   "source": [
    "- 创建多个Period对象"
   ]
  },
  {
   "cell_type": "code",
   "execution_count": 28,
   "metadata": {
    "ExecuteTime": {
     "end_time": "2024-01-26T14:28:06.489013969Z",
     "start_time": "2024-01-26T14:28:06.447650380Z"
    }
   },
   "outputs": [
    {
     "data": {
      "text/plain": "PeriodIndex(['2022-01', '2022-02', '2022-03', '2022-04', '2022-05', '2022-06'], dtype='period[M]')"
     },
     "execution_count": 28,
     "metadata": {},
     "output_type": "execute_result"
    }
   ],
   "source": [
    "period_index = pd.period_range('2022-01-01', '2022-06-30', freq='M')\n",
    "period_index"
   ]
  },
  {
   "cell_type": "markdown",
   "metadata": {},
   "source": [
    "- 时间频率转换"
   ]
  },
  {
   "cell_type": "code",
   "execution_count": 31,
   "metadata": {
    "ExecuteTime": {
     "end_time": "2024-01-26T14:29:05.085755298Z",
     "start_time": "2024-01-26T14:29:05.040529133Z"
    }
   },
   "outputs": [
    {
     "data": {
      "text/plain": "Period('2022-01', 'M')"
     },
     "execution_count": 31,
     "metadata": {},
     "output_type": "execute_result"
    }
   ],
   "source": [
    "period = pd.Period('2022', freq='Y-DEC')\n",
    "period.asfreq('M', how='start')"
   ]
  },
  {
   "cell_type": "markdown",
   "metadata": {},
   "source": [
    "### 时间序列的移动"
   ]
  },
  {
   "cell_type": "code",
   "execution_count": 32,
   "metadata": {
    "ExecuteTime": {
     "end_time": "2024-01-26T14:29:37.075595123Z",
     "start_time": "2024-01-26T14:29:37.033694340Z"
    }
   },
   "outputs": [
    {
     "name": "stdout",
     "output_type": "stream",
     "text": [
      "2022-01-01    1\n",
      "2022-01-02    2\n",
      "2022-01-03    3\n",
      "2022-01-04    4\n",
      "2022-01-05    5\n",
      "Freq: D, dtype: int64\n",
      "------------\n",
      "2022-01-01    NaN\n",
      "2022-01-02    1.0\n",
      "2022-01-03    2.0\n",
      "2022-01-04    3.0\n",
      "2022-01-05    4.0\n",
      "Freq: D, dtype: float64\n",
      "------------\n",
      "2022-01-01    2.0\n",
      "2022-01-02    3.0\n",
      "2022-01-03    4.0\n",
      "2022-01-04    5.0\n",
      "2022-01-05    NaN\n",
      "Freq: D, dtype: float64\n"
     ]
    }
   ],
   "source": [
    "date_index = pd.date_range('2022/01/01', periods=5)\n",
    "time_series = pd.Series(np.arange(5) + 1, index=date_index)\n",
    "print(time_series)\n",
    "print('------------')\n",
    "# 向后移动一次\n",
    "print(time_series.shift(1))\n",
    "print('------------')\n",
    "# 向前移动一次\n",
    "print(time_series.shift(-1))"
   ]
  },
  {
   "cell_type": "markdown",
   "metadata": {},
   "source": [
    "# 时间序列重采样\n",
    "## 重采样(Resample)\n",
    "- `resample(rule, how=None, axis=0, fill_method=None, closed=None, label=None, ...)`"
   ]
  },
  {
   "cell_type": "code",
   "execution_count": 33,
   "metadata": {
    "ExecuteTime": {
     "end_time": "2024-01-26T14:30:52.596360231Z",
     "start_time": "2024-01-26T14:30:52.550914723Z"
    }
   },
   "outputs": [
    {
     "data": {
      "text/plain": "2022-01-01     0\n2022-01-02     1\n2022-01-03     2\n2022-01-04     3\n2022-01-05     4\n2022-01-06     5\n2022-01-07     6\n2022-01-08     7\n2022-01-09     8\n2022-01-10     9\n2022-01-11    10\n2022-01-12    11\n2022-01-13    12\n2022-01-14    13\n2022-01-15    14\n2022-01-16    15\n2022-01-17    16\n2022-01-18    17\n2022-01-19    18\n2022-01-20    19\n2022-01-21    20\n2022-01-22    21\n2022-01-23    22\n2022-01-24    23\n2022-01-25    24\n2022-01-26    25\n2022-01-27    26\n2022-01-28    27\n2022-01-29    28\n2022-01-30    29\nFreq: D, dtype: int64"
     },
     "execution_count": 33,
     "metadata": {},
     "output_type": "execute_result"
    }
   ],
   "source": [
    "date_index = pd.date_range('2022-01-01', periods=30)\n",
    "time_series = pd.Series(np.arange(30), index=date_index)\n",
    "time_series"
   ]
  },
  {
   "cell_type": "code",
   "execution_count": 35,
   "metadata": {
    "ExecuteTime": {
     "end_time": "2024-01-26T14:33:43.299249132Z",
     "start_time": "2024-01-26T14:33:43.252077992Z"
    }
   },
   "outputs": [
    {
     "data": {
      "text/plain": "2022-01-03     1.0\n2022-01-10     6.0\n2022-01-17    13.0\n2022-01-24    20.0\n2022-01-31    26.5\nFreq: W-MON, dtype: float64"
     },
     "execution_count": 35,
     "metadata": {},
     "output_type": "execute_result"
    }
   ],
   "source": [
    "time_series.resample('W-MON').mean()  # 以重采样为每周的周一，期间数据取平均值"
   ]
  },
  {
   "cell_type": "markdown",
   "metadata": {},
   "source": [
    "## 降采样\n",
    "- 降采样时间颗粒会变大，数据量是减少的。为了避免有些时间戳对应的数据闲置，可以利用内置方法聚合数据。"
   ]
  },
  {
   "cell_type": "code",
   "execution_count": 37,
   "metadata": {
    "ExecuteTime": {
     "end_time": "2024-01-26T14:34:44.718371232Z",
     "start_time": "2024-01-26T14:34:44.623028712Z"
    }
   },
   "outputs": [
    {
     "data": {
      "text/plain": "2022-01-01    0.195849\n2022-01-02    0.498954\n2022-01-03    0.696082\n2022-01-04    0.145008\n2022-01-05    0.217313\n2022-01-06    0.769038\n2022-01-07    0.901988\n2022-01-08    0.236764\n2022-01-09    0.134267\n2022-01-10    0.736987\n2022-01-11    0.490866\n2022-01-12    0.900133\n2022-01-13    0.067676\n2022-01-14    0.059845\n2022-01-15    0.804276\n2022-01-16    0.352280\n2022-01-17    0.061133\n2022-01-18    0.991056\n2022-01-19    0.556840\n2022-01-20    0.866540\n2022-01-21    0.013080\n2022-01-22    0.313179\n2022-01-23    0.141979\n2022-01-24    0.370903\n2022-01-25    0.121229\n2022-01-26    0.799271\n2022-01-27    0.231914\n2022-01-28    0.236272\n2022-01-29    0.372484\n2022-01-30    0.490856\nFreq: D, dtype: float64"
     },
     "execution_count": 37,
     "metadata": {},
     "output_type": "execute_result"
    }
   ],
   "source": [
    "date_index = pd.date_range('2022/01/01', periods=30)\n",
    "shares_data = np.random.rand(30)\n",
    "time_ser = pd.Series(shares_data, index=date_index)\n",
    "time_ser"
   ]
  },
  {
   "cell_type": "code",
   "execution_count": 38,
   "metadata": {
    "ExecuteTime": {
     "end_time": "2024-01-26T14:34:55.454949364Z",
     "start_time": "2024-01-26T14:34:55.438607333Z"
    }
   },
   "outputs": [
    {
     "data": {
      "text/plain": "                open      high       low     close\n2022-01-01  0.195849  0.901988  0.145008  0.901988\n2022-01-08  0.236764  0.900133  0.059845  0.059845\n2022-01-15  0.804276  0.991056  0.013080  0.013080\n2022-01-22  0.313179  0.799271  0.121229  0.236272\n2022-01-29  0.372484  0.490856  0.372484  0.490856",
      "text/html": "<div>\n<style scoped>\n    .dataframe tbody tr th:only-of-type {\n        vertical-align: middle;\n    }\n\n    .dataframe tbody tr th {\n        vertical-align: top;\n    }\n\n    .dataframe thead th {\n        text-align: right;\n    }\n</style>\n<table border=\"1\" class=\"dataframe\">\n  <thead>\n    <tr style=\"text-align: right;\">\n      <th></th>\n      <th>open</th>\n      <th>high</th>\n      <th>low</th>\n      <th>close</th>\n    </tr>\n  </thead>\n  <tbody>\n    <tr>\n      <th>2022-01-01</th>\n      <td>0.195849</td>\n      <td>0.901988</td>\n      <td>0.145008</td>\n      <td>0.901988</td>\n    </tr>\n    <tr>\n      <th>2022-01-08</th>\n      <td>0.236764</td>\n      <td>0.900133</td>\n      <td>0.059845</td>\n      <td>0.059845</td>\n    </tr>\n    <tr>\n      <th>2022-01-15</th>\n      <td>0.804276</td>\n      <td>0.991056</td>\n      <td>0.013080</td>\n      <td>0.013080</td>\n    </tr>\n    <tr>\n      <th>2022-01-22</th>\n      <td>0.313179</td>\n      <td>0.799271</td>\n      <td>0.121229</td>\n      <td>0.236272</td>\n    </tr>\n    <tr>\n      <th>2022-01-29</th>\n      <td>0.372484</td>\n      <td>0.490856</td>\n      <td>0.372484</td>\n      <td>0.490856</td>\n    </tr>\n  </tbody>\n</table>\n</div>"
     },
     "execution_count": 38,
     "metadata": {},
     "output_type": "execute_result"
    }
   ],
   "source": [
    "time_ser.resample('7D').ohlc()  # OHLC重采样\n",
    "# 开盘价 (Open)：在时间窗口的第一个数据点的价格。\n",
    "# 最高价 (High)：在时间窗口内的最高价格。\n",
    "# 最低价 (Low)：在时间窗口内的最低价格。\n",
    "# 收盘价 (Close)：在时间窗口的最后一个数据点的价格。"
   ]
  },
  {
   "cell_type": "markdown",
   "metadata": {},
   "source": [
    "## 升采样\n",
    "- 升采样的时间颗粒是变小的，数据量会增多，这很有可能导致某些时间戳没有相应的数据\n",
    "- 常用的解决办法为插值"
   ]
  },
  {
   "cell_type": "code",
   "execution_count": 41,
   "metadata": {
    "ExecuteTime": {
     "end_time": "2024-01-26T14:39:52.162093642Z",
     "start_time": "2024-01-26T14:39:52.136775581Z"
    }
   },
   "outputs": [
    {
     "data": {
      "text/plain": "            A产品  B产品  C产品\n2018-06-10  101  210  150\n2018-06-17  330  460  580",
      "text/html": "<div>\n<style scoped>\n    .dataframe tbody tr th:only-of-type {\n        vertical-align: middle;\n    }\n\n    .dataframe tbody tr th {\n        vertical-align: top;\n    }\n\n    .dataframe thead th {\n        text-align: right;\n    }\n</style>\n<table border=\"1\" class=\"dataframe\">\n  <thead>\n    <tr style=\"text-align: right;\">\n      <th></th>\n      <th>A产品</th>\n      <th>B产品</th>\n      <th>C产品</th>\n    </tr>\n  </thead>\n  <tbody>\n    <tr>\n      <th>2018-06-10</th>\n      <td>101</td>\n      <td>210</td>\n      <td>150</td>\n    </tr>\n    <tr>\n      <th>2018-06-17</th>\n      <td>330</td>\n      <td>460</td>\n      <td>580</td>\n    </tr>\n  </tbody>\n</table>\n</div>"
     },
     "execution_count": 41,
     "metadata": {},
     "output_type": "execute_result"
    }
   ],
   "source": [
    "data_demo = np.array([['101', '210', '150'], ['330', '460', '580']])\n",
    "date_index = pd.date_range('2018/06/10', periods=2, freq='W-SUN')\n",
    "time_df = pd.DataFrame(data_demo, index=date_index, \n",
    "columns=['A产品', 'B产品', 'C产品'])\n",
    "time_df"
   ]
  },
  {
   "cell_type": "code",
   "execution_count": 43,
   "metadata": {
    "ExecuteTime": {
     "end_time": "2024-01-26T14:40:51.070465465Z",
     "start_time": "2024-01-26T14:40:51.024543093Z"
    }
   },
   "outputs": [
    {
     "data": {
      "text/plain": "            A产品  B产品  C产品\n2018-06-10  101  210  150\n2018-06-11  NaN  NaN  NaN\n2018-06-12  NaN  NaN  NaN\n2018-06-13  NaN  NaN  NaN\n2018-06-14  NaN  NaN  NaN\n2018-06-15  NaN  NaN  NaN\n2018-06-16  NaN  NaN  NaN\n2018-06-17  330  460  580",
      "text/html": "<div>\n<style scoped>\n    .dataframe tbody tr th:only-of-type {\n        vertical-align: middle;\n    }\n\n    .dataframe tbody tr th {\n        vertical-align: top;\n    }\n\n    .dataframe thead th {\n        text-align: right;\n    }\n</style>\n<table border=\"1\" class=\"dataframe\">\n  <thead>\n    <tr style=\"text-align: right;\">\n      <th></th>\n      <th>A产品</th>\n      <th>B产品</th>\n      <th>C产品</th>\n    </tr>\n  </thead>\n  <tbody>\n    <tr>\n      <th>2018-06-10</th>\n      <td>101</td>\n      <td>210</td>\n      <td>150</td>\n    </tr>\n    <tr>\n      <th>2018-06-11</th>\n      <td>NaN</td>\n      <td>NaN</td>\n      <td>NaN</td>\n    </tr>\n    <tr>\n      <th>2018-06-12</th>\n      <td>NaN</td>\n      <td>NaN</td>\n      <td>NaN</td>\n    </tr>\n    <tr>\n      <th>2018-06-13</th>\n      <td>NaN</td>\n      <td>NaN</td>\n      <td>NaN</td>\n    </tr>\n    <tr>\n      <th>2018-06-14</th>\n      <td>NaN</td>\n      <td>NaN</td>\n      <td>NaN</td>\n    </tr>\n    <tr>\n      <th>2018-06-15</th>\n      <td>NaN</td>\n      <td>NaN</td>\n      <td>NaN</td>\n    </tr>\n    <tr>\n      <th>2018-06-16</th>\n      <td>NaN</td>\n      <td>NaN</td>\n      <td>NaN</td>\n    </tr>\n    <tr>\n      <th>2018-06-17</th>\n      <td>330</td>\n      <td>460</td>\n      <td>580</td>\n    </tr>\n  </tbody>\n</table>\n</div>"
     },
     "execution_count": 43,
     "metadata": {},
     "output_type": "execute_result"
    }
   ],
   "source": [
    "time_df.resample('D').asfreq()  # 重采样为以天为间隔"
   ]
  },
  {
   "cell_type": "code",
   "execution_count": 58,
   "metadata": {},
   "outputs": [
    {
     "data": {
      "text/html": [
       "<div>\n",
       "<style scoped>\n",
       "    .dataframe tbody tr th:only-of-type {\n",
       "        vertical-align: middle;\n",
       "    }\n",
       "\n",
       "    .dataframe tbody tr th {\n",
       "        vertical-align: top;\n",
       "    }\n",
       "\n",
       "    .dataframe thead th {\n",
       "        text-align: right;\n",
       "    }\n",
       "</style>\n",
       "<table border=\"1\" class=\"dataframe\">\n",
       "  <thead>\n",
       "    <tr style=\"text-align: right;\">\n",
       "      <th></th>\n",
       "      <th>A产品</th>\n",
       "      <th>B产品</th>\n",
       "      <th>C产品</th>\n",
       "    </tr>\n",
       "  </thead>\n",
       "  <tbody>\n",
       "    <tr>\n",
       "      <th>2018-06-10</th>\n",
       "      <td>101</td>\n",
       "      <td>210</td>\n",
       "      <td>150</td>\n",
       "    </tr>\n",
       "    <tr>\n",
       "      <th>2018-06-11</th>\n",
       "      <td>101</td>\n",
       "      <td>210</td>\n",
       "      <td>150</td>\n",
       "    </tr>\n",
       "    <tr>\n",
       "      <th>2018-06-12</th>\n",
       "      <td>101</td>\n",
       "      <td>210</td>\n",
       "      <td>150</td>\n",
       "    </tr>\n",
       "    <tr>\n",
       "      <th>2018-06-13</th>\n",
       "      <td>101</td>\n",
       "      <td>210</td>\n",
       "      <td>150</td>\n",
       "    </tr>\n",
       "    <tr>\n",
       "      <th>2018-06-14</th>\n",
       "      <td>101</td>\n",
       "      <td>210</td>\n",
       "      <td>150</td>\n",
       "    </tr>\n",
       "    <tr>\n",
       "      <th>2018-06-15</th>\n",
       "      <td>101</td>\n",
       "      <td>210</td>\n",
       "      <td>150</td>\n",
       "    </tr>\n",
       "    <tr>\n",
       "      <th>2018-06-16</th>\n",
       "      <td>101</td>\n",
       "      <td>210</td>\n",
       "      <td>150</td>\n",
       "    </tr>\n",
       "    <tr>\n",
       "      <th>2018-06-17</th>\n",
       "      <td>330</td>\n",
       "      <td>460</td>\n",
       "      <td>580</td>\n",
       "    </tr>\n",
       "  </tbody>\n",
       "</table>\n",
       "</div>"
      ],
      "text/plain": [
       "            A产品  B产品  C产品\n",
       "2018-06-10  101  210  150\n",
       "2018-06-11  101  210  150\n",
       "2018-06-12  101  210  150\n",
       "2018-06-13  101  210  150\n",
       "2018-06-14  101  210  150\n",
       "2018-06-15  101  210  150\n",
       "2018-06-16  101  210  150\n",
       "2018-06-17  330  460  580"
      ]
     },
     "execution_count": 58,
     "metadata": {},
     "output_type": "execute_result"
    }
   ],
   "source": [
    "time_df.resample('D').ffill()  # （front fill）缺失的数据点会使用前一个时间窗口的数据进行填充，从而保持了每日的数据连续性"
   ]
  },
  {
   "cell_type": "markdown",
   "metadata": {},
   "source": [
    "# 滑动窗口\n",
    "- 根据指定的单位长度来框住时间序列，从而计算框内的统计指标。\n",
    "- 移动窗口就是窗口向一端滑行，每次滑行并不是区间整块的滑行，而是一个单位一个单位的滑行。\n",
    "- Pandas中窗口方法`rolling()`"
   ]
  },
  {
   "cell_type": "code",
   "execution_count": 45,
   "metadata": {
    "ExecuteTime": {
     "end_time": "2024-01-26T14:43:38.158980809Z",
     "start_time": "2024-01-26T14:43:38.112188406Z"
    }
   },
   "outputs": [
    {
     "data": {
      "text/plain": "2017-01-01    0.892796\n2017-01-02    3.217900\n2017-01-03    0.447854\n2017-01-04    0.992742\n2017-01-05    0.010620\nFreq: D, dtype: float64"
     },
     "execution_count": 45,
     "metadata": {},
     "output_type": "execute_result"
    }
   ],
   "source": [
    "year_data = np.random.randn(365)\n",
    "date_index = pd.date_range('2017-01-01', '2017-12-31', freq='D')\n",
    "ser = pd.Series(year_data, index=date_index)\n",
    "ser.head()"
   ]
  },
  {
   "cell_type": "code",
   "execution_count": 46,
   "metadata": {
    "ExecuteTime": {
     "end_time": "2024-01-26T14:43:56.567189799Z",
     "start_time": "2024-01-26T14:43:56.545210682Z"
    }
   },
   "outputs": [
    {
     "data": {
      "text/plain": "Rolling [window=10,center=False,axis=0,method=single]"
     },
     "execution_count": 46,
     "metadata": {},
     "output_type": "execute_result"
    }
   ],
   "source": [
    "roll_window = ser.rolling(window=10)  # 前后各10个，长度为21\n",
    "roll_window"
   ]
  },
  {
   "cell_type": "code",
   "execution_count": 50,
   "metadata": {
    "ExecuteTime": {
     "end_time": "2024-01-26T14:47:45.456793882Z",
     "start_time": "2024-01-26T14:47:45.411681128Z"
    }
   },
   "outputs": [
    {
     "data": {
      "text/plain": "2017-01-01    0.409866\n2017-01-02    0.409866\n2017-01-03    0.409866\n2017-01-04    0.409866\n2017-01-05    0.409866\n                ...   \n2017-12-27    0.097274\n2017-12-28   -0.293552\n2017-12-29   -0.127687\n2017-12-30   -0.013123\n2017-12-31   -0.217969\nFreq: D, Length: 365, dtype: float64"
     },
     "execution_count": 50,
     "metadata": {},
     "output_type": "execute_result"
    }
   ],
   "source": [
    "roll_window.mean() # 计算每个滑动窗口内的平均值（一种卷积）起到平滑的作用"
   ]
  },
  {
   "cell_type": "code",
   "outputs": [
    {
     "data": {
      "text/plain": "2017-01-01    0.409866\n2017-01-02    0.409866\n2017-01-03    0.409866\n2017-01-04    0.409866\n2017-01-05    0.409866\n                ...   \n2017-12-27    0.097274\n2017-12-28   -0.293552\n2017-12-29   -0.127687\n2017-12-30   -0.013123\n2017-12-31   -0.217969\nFreq: D, Length: 365, dtype: float64"
     },
     "execution_count": 51,
     "metadata": {},
     "output_type": "execute_result"
    }
   ],
   "source": [
    "roll_window.mean().bfill()"
   ],
   "metadata": {
    "collapsed": false,
    "ExecuteTime": {
     "end_time": "2024-01-26T14:48:05.472222010Z",
     "start_time": "2024-01-26T14:48:05.431239273Z"
    }
   },
   "execution_count": 51
  },
  {
   "cell_type": "code",
   "execution_count": 55,
   "metadata": {
    "ExecuteTime": {
     "end_time": "2024-01-26T14:51:27.507886708Z",
     "start_time": "2024-01-26T14:51:27.399256412Z"
    }
   },
   "outputs": [
    {
     "data": {
      "text/plain": "<matplotlib.legend.Legend at 0x7b21489a1290>"
     },
     "execution_count": 55,
     "metadata": {},
     "output_type": "execute_result"
    },
    {
     "data": {
      "text/plain": "<Figure size 640x480 with 1 Axes>",
      "image/png": "[encoded data removed]"
     },
     "metadata": {},
     "output_type": "display_data"
    }
   ],
   "source": [
    "import matplotlib.pyplot as plt\n",
    "\n",
    "plt.plot(ser, '--', label='raw data')\n",
    "ser_window = ser.rolling(window=10).mean()\n",
    "plt.plot(ser_window, label='smoothed data')  # 平滑之后\n",
    "plt.legend(loc='upper left')"
   ]
  },
  {
   "cell_type": "markdown",
   "metadata": {},
   "source": [
    "# 参考来源\n",
    "1. [How to handle time series data with ease](https://pandas.pydata.org/docs/getting_started/intro_tutorials/09_timeseries.html?highlight=datetime)\n",
    "2. [时间序列总结](https://mp.weixin.qq.com/s/crNLs-sn95RUP4ViDkzvqA)"
   ]
  },
  {
   "cell_type": "code",
   "outputs": [],
   "source": [],
   "metadata": {
    "collapsed": false
   }
  }
 ],
 "metadata": {
  "interpreter": {
   "hash": "b3ba2566441a7c06988d0923437866b63cedc61552a5af99d1f4fb67d367b25f"
  },
  "kernelspec": {
   "display_name": "Python 3.8.12 64-bit ('base': conda)",
   "language": "python",
   "name": "python3"
  },
  "language_info": {
   "codemirror_mode": {
    "name": "ipython",
    "version": 3
   },
   "file_extension": ".py",
   "mimetype": "text/x-python",
   "name": "python",
   "nbconvert_exporter": "python",
   "pygments_lexer": "ipython3",
   "version": "3.8.12"
  },
  "orig_nbformat": 4
 },
 "nbformat": 4,
 "nbformat_minor": 2
}
